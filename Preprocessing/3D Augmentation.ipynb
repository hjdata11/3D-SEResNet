{
 "cells": [
  {
   "cell_type": "code",
   "execution_count": null,
   "metadata": {},
   "outputs": [],
   "source": [
    "def t_generator_simple(X_train, Y_train, batch_size):\n",
    "    \n",
    "    batch_features = np.zeros(shape=(batch_size,64,64,64,1))\n",
    "    tmp1 = np.zeros(shape=(64,64,64,1))\n",
    "\n",
    "    batch_labels = np.zeros(shape=(batch_size))\n",
    "    \n",
    "    while True:\n",
    "        for i in range(batch_size):\n",
    "            index = np.random.choice(len(X_train),1)\n",
    "            tmp1[:,:,:,0] = X_train[np.asscalar(index),:,:,:,0]\n",
    "            \n",
    "            # Vertical Horizontal shift\n",
    "            tmp1[:,:,:,0] = ndimage.shift(tmp1[:,:,:,0],[random.randrange(-4,4),random.randrange(-8,8),0])\n",
    "            \n",
    "            if i%3==0:\n",
    "                # flip z- axes\n",
    "                tmp1[:,:,:,0] = tmp1[::-1,:,:,0]\n",
    "            \n",
    "            tmp1[:,:,:,0] = (0.01*(random.randrange(-200,200)))+(0.01*(20*(i%16+1)))*tmp1[:,:,:,0]+1.0*np.random.normal(0.01*random.randrange(-20,20),0.01*random.randrange(0,20),(64,64,64))\n",
    "            batch_features[i,:,:,:,0] = (random.randrange(90,110)/100)*tmp1[:,:,:,0]\n",
    "            batch_labels[i]=Y_train[np.asscalar(index)]\n",
    "\n",
    "        yield batch_features, batch_labels"
   ]
  }
 ],
 "metadata": {
  "kernelspec": {
   "display_name": "Python 3",
   "language": "python",
   "name": "python3"
  },
  "language_info": {
   "codemirror_mode": {
    "name": "ipython",
    "version": 3
   },
   "file_extension": ".py",
   "mimetype": "text/x-python",
   "name": "python",
   "nbconvert_exporter": "python",
   "pygments_lexer": "ipython3",
   "version": "3.6.5"
  }
 },
 "nbformat": 4,
 "nbformat_minor": 2
}
