{
 "cells": [
  {
   "cell_type": "code",
   "execution_count": null,
   "metadata": {},
   "outputs": [],
   "source": [
    "import numpy as np\n",
    "import pandas as pd\n",
    "import matplotlib.pyplot as plt\n",
    "%matplotlib inline\n",
    "import seaborn as sns\n",
    "from sklearn.metrics import confusion_matrix\n",
    "\n",
    "figsize=(10,10)\n",
    "cm = confusion_matrix(y_true, y_pred, labels=np.unique(y_true))\n",
    "cm_sum = np.sum(cm, axis=1, keepdims=True)\n",
    "cm_perc = cm / cm_sum.astype(float) * 100\n",
    "annot = np.empty_like(cm).astype(str)\n",
    "nrows, ncols = cm.shape\n",
    "for i in range(nrows):\n",
    "    for j in range(ncols):\n",
    "        c = cm[i, j]\n",
    "        p = cm_perc[i, j]\n",
    "        if i == j:\n",
    "            s = cm_sum[i]\n",
    "            annot[i, j] = '%.1f%%\\n%d/%d' % (p, c, s)\n",
    "        elif c == 0:\n",
    "            annot[i, j] = ''\n",
    "        else:\n",
    "            annot[i, j] = '%.1f%%\\n%d' % (p, c)\n",
    "            \n",
    "tmp = np.zeros((2, 2))\n",
    "tmp[0][0] = cm[0][0]/(cm[0][0]+cm[0][1])\n",
    "tmp[0][1] = cm[0][1]/(cm[0][0]+cm[0][1])\n",
    "tmp[1][0] = cm[1][0]/(cm[1][0]+cm[1][1])\n",
    "tmp[1][1] = cm[1][1]/(cm[1][0]+cm[1][1])\n",
    "accuracy=(cm[0][0]+cm[1][1])/(cm[0][0]+cm[0][1]+cm[1][0]+cm[1][1])\n",
    "\n",
    "tmp = pd.DataFrame(tmp, index=np.unique(y_true), columns=np.unique(y_true))\n",
    "tmp.index.name = 'True label'\n",
    "tmp.columns.name = 'Predicted label'\n",
    "fig, ax = plt.subplots(figsize=figsize)\n",
    "sns.heatmap(tmp, cmap= \"YlGnBu\", annot=annot, fmt='', ax=ax)"
   ]
  }
 ],
 "metadata": {
  "kernelspec": {
   "display_name": "Python 3",
   "language": "python",
   "name": "python3"
  },
  "language_info": {
   "codemirror_mode": {
    "name": "ipython",
    "version": 3
   },
   "file_extension": ".py",
   "mimetype": "text/x-python",
   "name": "python",
   "nbconvert_exporter": "python",
   "pygments_lexer": "ipython3",
   "version": "3.6.5"
  }
 },
 "nbformat": 4,
 "nbformat_minor": 2
}
