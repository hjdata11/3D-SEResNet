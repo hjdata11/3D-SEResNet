{
 "cells": [
  {
   "cell_type": "code",
   "execution_count": null,
   "metadata": {},
   "outputs": [],
   "source": [
    "from sklearn.metrics import roc_curve, auc # roc curve tools\n",
    "\n",
    "fpr, tpr, _ = roc_curve(labels,score_values)\n",
    "roc_auc = auc(fpr,tpr)\n",
    "    \n",
    "fig, ax = plt.subplots(1,1)\n",
    "ax.plot(fpr, tpr, label='ROC curve (area = %0.4f)' % roc_auc)\n",
    "ax.plot([0, 1], [0, 1.05], 'k--')\n",
    "ax.set_xlim([0.0, 1.0])\n",
    "ax.set_ylim([0.0, 1.05])\n",
    "ax.set_xticks(np.arange(0.0, 1.0, 0.1))\n",
    "ax.set_yticks(np.arange(0.0, 1.05, 0.1))\n",
    "ax.grid()\n",
    "ax.set_xlabel('False Positive Rate')\n",
    "ax.set_ylabel('True Positive Rate')\n",
    "ax.set_title('Epoch50 Receiver operating characteristic')\n",
    "ax.legend(loc=\"lower right\")"
   ]
  }
 ],
 "metadata": {
  "kernelspec": {
   "display_name": "Python 3",
   "language": "python",
   "name": "python3"
  },
  "language_info": {
   "codemirror_mode": {
    "name": "ipython",
    "version": 3
   },
   "file_extension": ".py",
   "mimetype": "text/x-python",
   "name": "python",
   "nbconvert_exporter": "python",
   "pygments_lexer": "ipython3",
   "version": "3.6.5"
  }
 },
 "nbformat": 4,
 "nbformat_minor": 2
}
